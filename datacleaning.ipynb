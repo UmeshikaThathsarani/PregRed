{
  "nbformat": 4,
  "nbformat_minor": 0,
  "metadata": {
    "colab": {
      "name": "datacleaning.ipynb",
      "provenance": [],
      "collapsed_sections": [],
      "authorship_tag": "ABX9TyPr03SKmZlmXwa8mZfoRrnA",
      "include_colab_link": true
    },
    "kernelspec": {
      "name": "python3",
      "display_name": "Python 3"
    },
    "language_info": {
      "name": "python"
    }
  },
  "cells": [
    {
      "cell_type": "markdown",
      "metadata": {
        "id": "view-in-github",
        "colab_type": "text"
      },
      "source": [
        "<a href=\"https://colab.research.google.com/github/SDGPTeamX/PregRed/blob/ml_Rashmika/datacleaning.ipynb\" target=\"_parent\"><img src=\"https://colab.research.google.com/assets/colab-badge.svg\" alt=\"Open In Colab\"/></a>"
      ]
    },
    {
      "cell_type": "code",
      "metadata": {
        "id": "utr1op1hGx_Y"
      },
      "source": [
        "#import pandas library\n",
        "import pandas as pd"
      ],
      "execution_count": null,
      "outputs": []
    },
    {
      "cell_type": "code",
      "metadata": {
        "id": "QZxRmW-uH9Hc"
      },
      "source": [
        "#data frame \n",
        "dataf = pd.read_csv('pregred_dataset.csv')"
      ],
      "execution_count": 4,
      "outputs": []
    },
    {
      "cell_type": "code",
      "metadata": {
        "colab": {
          "base_uri": "https://localhost:8080/",
          "height": 229
        },
        "id": "A64MjpP6JAj7",
        "outputId": "a5cfa38a-1c10-4120-cc67-2d0b73963430"
      },
      "source": [
        "dataf.head()"
      ],
      "execution_count": 5,
      "outputs": [
        {
          "output_type": "execute_result",
          "data": {
            "text/html": [
              "<div>\n",
              "<style scoped>\n",
              "    .dataframe tbody tr th:only-of-type {\n",
              "        vertical-align: middle;\n",
              "    }\n",
              "\n",
              "    .dataframe tbody tr th {\n",
              "        vertical-align: top;\n",
              "    }\n",
              "\n",
              "    .dataframe thead th {\n",
              "        text-align: right;\n",
              "    }\n",
              "</style>\n",
              "<table border=\"1\" class=\"dataframe\">\n",
              "  <thead>\n",
              "    <tr style=\"text-align: right;\">\n",
              "      <th></th>\n",
              "      <th>'Blood Sugar'</th>\n",
              "      <th>Haemoglobin</th>\n",
              "      <th>Subfertility=Yes</th>\n",
              "      <th>Height</th>\n",
              "      <th>Age</th>\n",
              "      <th>BMI</th>\n",
              "      <th>'Cardiac Diseases=Yes'</th>\n",
              "      <th>Gravidity</th>\n",
              "      <th>Consanguinity=Yes</th>\n",
              "      <th>'Rubella Immunization=Yes'</th>\n",
              "      <th>'Had Folic Acid=Yes'</th>\n",
              "      <th>'Thyroid Diseases=Yes'</th>\n",
              "      <th>'Blood Pressure'</th>\n",
              "      <th>'Is the newborn healthy?'</th>\n",
              "    </tr>\n",
              "  </thead>\n",
              "  <tbody>\n",
              "    <tr>\n",
              "      <th>0</th>\n",
              "      <td>0.898990</td>\n",
              "      <td>0.648649</td>\n",
              "      <td>0</td>\n",
              "      <td>0.414141</td>\n",
              "      <td>0.5000</td>\n",
              "      <td>0.439344</td>\n",
              "      <td>0</td>\n",
              "      <td>0.333333</td>\n",
              "      <td>0</td>\n",
              "      <td>0</td>\n",
              "      <td>0</td>\n",
              "      <td>0</td>\n",
              "      <td>0.000000</td>\n",
              "      <td>Yes</td>\n",
              "    </tr>\n",
              "    <tr>\n",
              "      <th>1</th>\n",
              "      <td>0.277778</td>\n",
              "      <td>0.540541</td>\n",
              "      <td>0</td>\n",
              "      <td>0.616162</td>\n",
              "      <td>0.0000</td>\n",
              "      <td>0.408248</td>\n",
              "      <td>0</td>\n",
              "      <td>0.000000</td>\n",
              "      <td>0</td>\n",
              "      <td>1</td>\n",
              "      <td>0</td>\n",
              "      <td>0</td>\n",
              "      <td>0.000000</td>\n",
              "      <td>Yes</td>\n",
              "    </tr>\n",
              "    <tr>\n",
              "      <th>2</th>\n",
              "      <td>0.444444</td>\n",
              "      <td>0.378378</td>\n",
              "      <td>0</td>\n",
              "      <td>0.494949</td>\n",
              "      <td>0.3125</td>\n",
              "      <td>0.272131</td>\n",
              "      <td>0</td>\n",
              "      <td>0.166667</td>\n",
              "      <td>0</td>\n",
              "      <td>1</td>\n",
              "      <td>1</td>\n",
              "      <td>0</td>\n",
              "      <td>0.000000</td>\n",
              "      <td>Yes</td>\n",
              "    </tr>\n",
              "    <tr>\n",
              "      <th>3</th>\n",
              "      <td>0.496608</td>\n",
              "      <td>0.591225</td>\n",
              "      <td>0</td>\n",
              "      <td>0.494949</td>\n",
              "      <td>0.6250</td>\n",
              "      <td>0.275410</td>\n",
              "      <td>0</td>\n",
              "      <td>0.166667</td>\n",
              "      <td>0</td>\n",
              "      <td>1</td>\n",
              "      <td>1</td>\n",
              "      <td>0</td>\n",
              "      <td>0.666667</td>\n",
              "      <td>No</td>\n",
              "    </tr>\n",
              "    <tr>\n",
              "      <th>4</th>\n",
              "      <td>0.444444</td>\n",
              "      <td>0.337838</td>\n",
              "      <td>0</td>\n",
              "      <td>0.474747</td>\n",
              "      <td>0.5000</td>\n",
              "      <td>0.275410</td>\n",
              "      <td>0</td>\n",
              "      <td>0.166667</td>\n",
              "      <td>0</td>\n",
              "      <td>1</td>\n",
              "      <td>1</td>\n",
              "      <td>0</td>\n",
              "      <td>0.000000</td>\n",
              "      <td>Yes</td>\n",
              "    </tr>\n",
              "  </tbody>\n",
              "</table>\n",
              "</div>"
            ],
            "text/plain": [
              "   'Blood Sugar'  Haemoglobin  ...  'Blood Pressure'  'Is the newborn healthy?'\n",
              "0       0.898990     0.648649  ...          0.000000                        Yes\n",
              "1       0.277778     0.540541  ...          0.000000                        Yes\n",
              "2       0.444444     0.378378  ...          0.000000                        Yes\n",
              "3       0.496608     0.591225  ...          0.666667                         No\n",
              "4       0.444444     0.337838  ...          0.000000                        Yes\n",
              "\n",
              "[5 rows x 14 columns]"
            ]
          },
          "metadata": {
            "tags": []
          },
          "execution_count": 5
        }
      ]
    }
  ]
}