{
  "nbformat": 4,
  "nbformat_minor": 0,
  "metadata": {
    "colab": {
      "name": "Data Cleaning.ipynb",
      "provenance": [],
      "authorship_tag": "ABX9TyNTE9eNy6i9IkmJUW1anJTG",
      "include_colab_link": true
    },
    "kernelspec": {
      "name": "python3",
      "display_name": "Python 3"
    },
    "language_info": {
      "name": "python"
    }
  },
  "cells": [
    {
      "cell_type": "markdown",
      "metadata": {
        "id": "view-in-github",
        "colab_type": "text"
      },
      "source": [
        "<a href=\"https://colab.research.google.com/github/SDGPTeamX/PregRed/blob/ml_Nanduni/Data_Cleaning.ipynb\" target=\"_parent\"><img src=\"https://colab.research.google.com/assets/colab-badge.svg\" alt=\"Open In Colab\"/></a>"
      ]
    },
    {
      "cell_type": "code",
      "metadata": {
        "id": "ladAXVT4ylIf"
      },
      "source": [
        "#import pandas\n",
        "import pandas as pd\n"
      ],
      "execution_count": 1,
      "outputs": []
    },
    {
      "cell_type": "code",
      "metadata": {
        "id": "qNMx_kkzztp9"
      },
      "source": [
        "df = pd.read_csv('DataSet2.csv')"
      ],
      "execution_count": 2,
      "outputs": []
    },
    {
      "cell_type": "code",
      "metadata": {
        "colab": {
          "base_uri": "https://localhost:8080/"
        },
        "id": "qpIDvqtQ2phf",
        "outputId": "5222d6cc-096f-4d65-ecd4-b1a24320715a"
      },
      "source": [
        "df.isnull().sum()"
      ],
      "execution_count": 3,
      "outputs": [
        {
          "output_type": "execute_result",
          "data": {
            "text/plain": [
              "'Blood Sugar'                 0\n",
              "Haemoglobin                   0\n",
              "Subfertility=Yes              0\n",
              "Height                        0\n",
              "Age                           0\n",
              "BMI                           0\n",
              "'Cardiac Diseases=Yes'        0\n",
              "Gravidity                     0\n",
              "Consanguinity=Yes             0\n",
              "'Rubella Immunization=Yes'    0\n",
              "'Had Folic Acid=Yes'          0\n",
              "'Thyroid Diseases=Yes'        0\n",
              "'Blood Pressure'              0\n",
              "'Is the newborn healthy?'     0\n",
              "dtype: int64"
            ]
          },
          "metadata": {
            "tags": []
          },
          "execution_count": 3
        }
      ]
    },
    {
      "cell_type": "code",
      "metadata": {
        "colab": {
          "base_uri": "https://localhost:8080/"
        },
        "id": "9PVe2yFo3BKt",
        "outputId": "495e7de8-5f80-4bd1-b8ff-7c2800f9c40c"
      },
      "source": [
        "df.dtypes"
      ],
      "execution_count": 4,
      "outputs": [
        {
          "output_type": "execute_result",
          "data": {
            "text/plain": [
              "'Blood Sugar'                 float64\n",
              "Haemoglobin                   float64\n",
              "Subfertility=Yes                int64\n",
              "Height                        float64\n",
              "Age                           float64\n",
              "BMI                           float64\n",
              "'Cardiac Diseases=Yes'          int64\n",
              "Gravidity                     float64\n",
              "Consanguinity=Yes               int64\n",
              "'Rubella Immunization=Yes'      int64\n",
              "'Had Folic Acid=Yes'            int64\n",
              "'Thyroid Diseases=Yes'          int64\n",
              "'Blood Pressure'              float64\n",
              "'Is the newborn healthy?'      object\n",
              "dtype: object"
            ]
          },
          "metadata": {
            "tags": []
          },
          "execution_count": 4
        }
      ]
    },
    {
      "cell_type": "code",
      "metadata": {
        "id": "iiql4MfE4ElL"
      },
      "source": [
        ""
      ],
      "execution_count": null,
      "outputs": []
    }
  ]
}