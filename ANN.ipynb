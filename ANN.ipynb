{
  "nbformat": 4,
  "nbformat_minor": 0,
  "metadata": {
    "colab": {
      "name": "Untitled10.ipynb",
      "provenance": [],
      "collapsed_sections": [],
      "mount_file_id": "1WLYKZT5M2Sobz5B2RN7reI-g8pKPen5B",
      "authorship_tag": "ABX9TyNxm9uVfHYh+7AwxN4qrh6a",
      "include_colab_link": true
    },
    "kernelspec": {
      "name": "python3",
      "display_name": "Python 3"
    },
    "language_info": {
      "name": "python"
    }
  },
  "cells": [
    {
      "cell_type": "markdown",
      "metadata": {
        "id": "view-in-github",
        "colab_type": "text"
      },
      "source": [
        "<a href=\"https://colab.research.google.com/github/SDGPTeamX/PregRed/blob/ml_Somaskaran/ANN.ipynb\" target=\"_parent\"><img src=\"https://colab.research.google.com/assets/colab-badge.svg\" alt=\"Open In Colab\"/></a>"
      ]
    },
    {
      "cell_type": "code",
      "metadata": {
        "colab": {
          "base_uri": "https://localhost:8080/"
        },
        "id": "fOFEVZjvcSg5",
        "outputId": "2ed14368-712c-4f28-ce2a-835b2a7b05d1"
      },
      "source": [
        "import pickle\n",
        "\n",
        "import joblib\n",
        "import pandas as pd\n",
        "import tensorflow as tf\n",
        "from tensorflow import keras\n",
        "from sklearn.model_selection import train_test_split\n",
        "from keras.models import load_model\n",
        "import numpy as np\n",
        "\n",
        "# import warnings;\n",
        "# import pickle;\n",
        "\n",
        "df = pd.read_csv('/content/drive/MyDrive/MachineLearndataset--30-1-2021/Weka_PregRed_binary_Dataset.csv')\n",
        "\n",
        "properties = list(df.columns.values)\n",
        "properties.remove('Prediction')\n",
        "X = df[properties]\n",
        "y = df['Prediction']\n",
        "\n",
        "X_train, X_test, y_train, y_test = train_test_split(X, y, test_size=0.3, random_state=0)\n",
        "\n",
        "model = keras.Sequential([\n",
        "    keras.layers.Flatten(input_shape=(13,)),\n",
        "    keras.layers.Dense(16, activation=tf.nn.relu),\n",
        "\tkeras.layers.Dense(16, activation=tf.nn.relu),\n",
        "    keras.layers.Dense(1, activation=tf.nn.sigmoid),\n",
        "])\n",
        "\n",
        "model.compile(optimizer='adam',\n",
        "              loss='binary_crossentropy',\n",
        "              metrics=['accuracy'])\n",
        "\n",
        "model.fit(X_train, y_train, epochs=10, batch_size=1)\n",
        "\n",
        "#\n",
        "#\n",
        "# test_loss, test_acc = model.evaluate(X_test, y_test)\n",
        "# print('Test accuracy:', test_acc)\n",
        "# joblib.dump(model,'model_joblib')\n",
        "# mj = joblib.load('model_joblib')\n",
        "# a= np.array([[0.89899, 0.648649, 0, 0.414141, 0.5, 0.439344, 0, 0.333333, 0,0, 0, 0, 0],\n",
        "#              [0.444444, 0.378378, 0, 0.494949,0.3125, 0.272131, 0, 0.166667, 0, 1, 1, 0, 0]])\n",
        "# mj.predict(a)\n",
        "\n",
        "# a= np.array([[0.89899, 0.648649, 0, 0.414141, 0.5, 0.439344, 0, 0.333333, 0,0, 0, 0, 0],\n",
        "#              [0.444444, 0.378378, 0, 0.494949,0.3125, 0.272131, 0, 0.166667, 0, 1, 1, 0, 0]])\n",
        "# print(model.predict(a))\n",
        "#\n",
        "# pickle.dump(model,open('model.pkl','wb'))\n",
        "\n",
        "model.save('Pregnancy_Prediction_Model.h5')\n",
        "new_model = load_model('Pregnancy_Prediction_Model.h5')\n",
        "new_model.summary()\n",
        "a= np.array([[0.89899, 0.648649, 0, 0.414141, 0.5, 0.439344, 0, 0.333333, 0,0, 0, 0, 0]])\n",
        "s= new_model.predict(a)\n",
        "print(s)\n",
        "# if new_model.predict(a) >0.5:\n",
        "#   print(1)\n"
      ],
      "execution_count": 1,
      "outputs": [
        {
          "output_type": "stream",
          "text": [
            "Epoch 1/10\n",
            "1398/1398 [==============================] - 2s 964us/step - loss: 0.6607 - accuracy: 0.6040\n",
            "Epoch 2/10\n",
            "1398/1398 [==============================] - 1s 975us/step - loss: 0.6282 - accuracy: 0.6807\n",
            "Epoch 3/10\n",
            "1398/1398 [==============================] - 1s 930us/step - loss: 0.6390 - accuracy: 0.6642\n",
            "Epoch 4/10\n",
            "1398/1398 [==============================] - 1s 929us/step - loss: 0.6410 - accuracy: 0.6574\n",
            "Epoch 5/10\n",
            "1398/1398 [==============================] - 1s 917us/step - loss: 0.6353 - accuracy: 0.6708\n",
            "Epoch 6/10\n",
            "1398/1398 [==============================] - 1s 930us/step - loss: 0.6199 - accuracy: 0.6889\n",
            "Epoch 7/10\n",
            "1398/1398 [==============================] - 1s 933us/step - loss: 0.6262 - accuracy: 0.6782\n",
            "Epoch 8/10\n",
            "1398/1398 [==============================] - 1s 947us/step - loss: 0.6348 - accuracy: 0.6639\n",
            "Epoch 9/10\n",
            "1398/1398 [==============================] - 1s 953us/step - loss: 0.6221 - accuracy: 0.6830\n",
            "Epoch 10/10\n",
            "1398/1398 [==============================] - 1s 960us/step - loss: 0.6237 - accuracy: 0.6740\n",
            "Model: \"sequential\"\n",
            "_________________________________________________________________\n",
            "Layer (type)                 Output Shape              Param #   \n",
            "=================================================================\n",
            "flatten (Flatten)            (None, 13)                0         \n",
            "_________________________________________________________________\n",
            "dense (Dense)                (None, 16)                224       \n",
            "_________________________________________________________________\n",
            "dense_1 (Dense)              (None, 16)                272       \n",
            "_________________________________________________________________\n",
            "dense_2 (Dense)              (None, 1)                 17        \n",
            "=================================================================\n",
            "Total params: 513\n",
            "Trainable params: 513\n",
            "Non-trainable params: 0\n",
            "_________________________________________________________________\n",
            "[[0.5014123]]\n"
          ],
          "name": "stdout"
        }
      ]
    }
  ]
}