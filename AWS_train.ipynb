{
  "nbformat": 4,
  "nbformat_minor": 0,
  "metadata": {
    "colab": {
      "name": "AWS_train.ipynb",
      "provenance": [],
      "authorship_tag": "ABX9TyNid4q2np9MkbGn93qlEOUN",
      "include_colab_link": true
    },
    "kernelspec": {
      "name": "python3",
      "display_name": "Python 3"
    },
    "language_info": {
      "name": "python"
    }
  },
  "cells": [
    {
      "cell_type": "markdown",
      "metadata": {
        "id": "view-in-github",
        "colab_type": "text"
      },
      "source": [
        "<a href=\"https://colab.research.google.com/github/SDGPTeamX/PregRed/blob/ml_umeshika/AWS_train.ipynb\" target=\"_parent\"><img src=\"https://colab.research.google.com/assets/colab-badge.svg\" alt=\"Open In Colab\"/></a>"
      ]
    },
    {
      "cell_type": "code",
      "metadata": {
        "id": "FegQ-qgNu67a"
      },
      "source": [
        "import sagemaker\n",
        "from sagemaker import get_execution_role"
      ],
      "execution_count": null,
      "outputs": []
    },
    {
      "cell_type": "code",
      "metadata": {
        "id": "11z2vSi1vGOo"
      },
      "source": [
        "sagemaker_session = sagemaker.Session()"
      ],
      "execution_count": null,
      "outputs": []
    },
    {
      "cell_type": "code",
      "metadata": {
        "id": "RGx-uIi0vK2j"
      },
      "source": [
        "# Get a SageMaker-compatible role used by this Notebook Instance.\n",
        "role = get_execution_role()"
      ],
      "execution_count": null,
      "outputs": []
    },
    {
      "cell_type": "code",
      "metadata": {
        "id": "uMNGo3yVvO6l"
      },
      "source": [
        "role"
      ],
      "execution_count": null,
      "outputs": []
    },
    {
      "cell_type": "markdown",
      "metadata": {
        "id": "BnJFmNa8vRKP"
      },
      "source": [
        "## **Upload the data for training**"
      ]
    },
    {
      "cell_type": "code",
      "metadata": {
        "id": "tAPGQC2YvWe2"
      },
      "source": [
        "train_input = sagemaker_session.upload_data(\"data\")"
      ],
      "execution_count": null,
      "outputs": []
    },
    {
      "cell_type": "code",
      "metadata": {
        "id": "Yi5trVOlvboR"
      },
      "source": [
        "train_input"
      ],
      "execution_count": null,
      "outputs": []
    },
    {
      "cell_type": "markdown",
      "metadata": {
        "id": "_EiMw_JOvd1b"
      },
      "source": [
        "## **Create SageMaker Scikit Estimator**"
      ]
    },
    {
      "cell_type": "code",
      "metadata": {
        "id": "Djc9qUXYvcOU"
      },
      "source": [
        "from sagemaker.sklearn.estimator import SKLearn\n",
        "\n",
        "script_path = 'Umeshika_model.py'\n",
        "\n",
        "sklearn = SKLearn(\n",
        "    entry_point=script_path,\n",
        "    instance_type=\"ml.m4.xlarge\",\n",
        "    framework_version=\"0.20.0\",\n",
        "    py_version=\"py3\",\n",
        "    role=role,\n",
        "    sagemaker_session=sagemaker_session)"
      ],
      "execution_count": null,
      "outputs": []
    },
    {
      "cell_type": "markdown",
      "metadata": {
        "id": "Rx_avWWtvywO"
      },
      "source": [
        "## **Train SKLearn Estimator on Startup data**"
      ]
    },
    {
      "cell_type": "code",
      "metadata": {
        "id": "lHk6YU2_v0VG"
      },
      "source": [
        "sklearn.fit({'train': train_input})"
      ],
      "execution_count": null,
      "outputs": []
    },
    {
      "cell_type": "markdown",
      "metadata": {
        "id": "WfslmJDkv8ic"
      },
      "source": [
        "## **Deploy the model**"
      ]
    },
    {
      "cell_type": "code",
      "metadata": {
        "id": "J2xs-5k2wCZn"
      },
      "source": [
        "deployment = sklearn.deploy(initial_instance_count=1, instance_type=\"ml.m4.xlarge\")"
      ],
      "execution_count": null,
      "outputs": []
    },
    {
      "cell_type": "code",
      "metadata": {
        "id": "-yDxGvEDwN8j"
      },
      "source": [
        "deployment.endpoint"
      ],
      "execution_count": null,
      "outputs": []
    },
    {
      "cell_type": "code",
      "metadata": {
        "id": "R_1l0oKEwRIb"
      },
      "source": [
        "deployment.predict([[0.89899, 0.648649, 0, 0.414141, 0.5, 0.439344, 0, 0.333333, 0,0, 0, 0, 0]])"
      ],
      "execution_count": null,
      "outputs": []
    }
  ]
}