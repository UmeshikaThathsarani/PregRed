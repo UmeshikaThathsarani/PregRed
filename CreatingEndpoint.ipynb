{
  "nbformat": 4,
  "nbformat_minor": 0,
  "metadata": {
    "colab": {
      "name": "CreatingEndpoint.ipynb",
      "provenance": [],
      "authorship_tag": "ABX9TyOJlMKcc+KHyRsCJqXhmIAD",
      "include_colab_link": true
    },
    "kernelspec": {
      "name": "python3",
      "display_name": "Python 3"
    },
    "language_info": {
      "name": "python"
    }
  },
  "cells": [
    {
      "cell_type": "markdown",
      "metadata": {
        "id": "view-in-github",
        "colab_type": "text"
      },
      "source": [
        "<a href=\"https://colab.research.google.com/github/SDGPTeamX/PregRed/blob/ml_umeshika/CreatingEndpoint.ipynb\" target=\"_parent\"><img src=\"https://colab.research.google.com/assets/colab-badge.svg\" alt=\"Open In Colab\"/></a>"
      ]
    },
    {
      "cell_type": "code",
      "metadata": {
        "id": "wSaXpR3XsFc-"
      },
      "source": [
        "import numpy as np\n",
        "from tensorflow.keras.models import load_model\n",
        "from tensorflow.python.saved_model import builder\n",
        "from tensorflow.python.saved_model.signature_def_utils import predict_signature_def\n",
        "from tensorflow.python.saved_model import tag_constants\n",
        "import boto3, re\n",
        "from sagemaker import get_execution_role\n",
        "from sagemaker.tensorflow.model import TensorFlowModel\n",
        "\n",
        "# giving path to the dataset in SageMaker\n",
        "MODEL_LOCATION ='Pregnancy_Prediction_Model.h5'\n",
        "\n",
        "# load the model\n",
        "model = load_model(MODEL_LOCATION, compile = False)"
      ],
      "execution_count": null,
      "outputs": []
    },
    {
      "cell_type": "code",
      "metadata": {
        "id": "Xt_vACU2uanT"
      },
      "source": [
        "# Convert pre-trained keras model into a file structure which AWS expects\n",
        "def convert_h5_to_aws(loaded_model):\n",
        "    # the file structure which AWS expects\n",
        "    model_version = '1'\n",
        "    export_dir = 'export/Servo/' + model_version\n",
        "\n",
        "    # Build the Protocol Buffer SavedModel at 'export_dir'\n",
        "    builder = builder.SavedModelBuilder(export_dir)\n",
        "\n",
        "    # Create prediction signature to be used by TensorFlow Serving Predict API\n",
        "    signature = predict_signature_def(\n",
        "        inputs={\"inputs\": loaded_model.input}, outputs={\"score\": loaded_model.output})\n",
        "    \n",
        "    from tensorflow.keras import backend as K\n",
        "    with K.get_session() as sess:\n",
        "        # Save the meta graph and variables\n",
        "        builder.add_meta_graph_and_variables(\n",
        "            sess=sess, tags=[tag_constants.SERVING], signature_def_map={\"serving_default\": signature})\n",
        "        builder.save()\n",
        "\n",
        "    #create a tarball/tar file and zip it\n",
        "    import tarfile\n",
        "    with tarfile.open('model.tar.gz', mode='w:gz') as archive:\n",
        "        archive.add('export', recursive=True)\n",
        "\n",
        "convert_h5_to_aws(model)"
      ],
      "execution_count": null,
      "outputs": []
    },
    {
      "cell_type": "code",
      "metadata": {
        "id": "QSPlmEBQul8k"
      },
      "source": [
        "# Move the tarball (tar.gz) to S3\n",
        "sagemaker_session = sagemaker.Session()\n",
        "inputs = sagemaker_session.upload_data(path='model.tar.gz', key_prefix='model')"
      ],
      "execution_count": null,
      "outputs": []
    },
    {
      "cell_type": "code",
      "metadata": {
        "id": "ndq2WF4SvXmW"
      },
      "source": [
        "#create an empty python file\n",
        "!touch train.py\n",
        "\n",
        "# the (default) IAM role you created when creating this notebook\n",
        "role = get_execution_role()\n",
        "\n",
        "# Create a Sagemaker model (see AWS console>SageMaker>Models)\n",
        "sagemaker_model = TensorFlowModel(model_data = 's3://' + sagemaker_session.default_bucket() + '/model/model.tar.gz',\n",
        "                                  role = role,\n",
        "                                  framework_version = '1.12',\n",
        "                                  entry_point = 'train.py')"
      ],
      "execution_count": null,
      "outputs": []
    },
    {
      "cell_type": "code",
      "metadata": {
        "id": "WPZSoKpyvzCf"
      },
      "source": [
        "# Deploy a SageMaker to an endpoint\n",
        "predictor = sagemaker_model.deploy(initial_instance_count=1,\n",
        "                                   instance_type='ml.m4.xlarge')"
      ],
      "execution_count": null,
      "outputs": []
    }
  ]
}