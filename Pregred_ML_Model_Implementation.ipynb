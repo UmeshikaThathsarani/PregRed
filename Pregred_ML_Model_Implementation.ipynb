{
  "nbformat": 4,
  "nbformat_minor": 0,
  "metadata": {
    "colab": {
      "name": "Pregred_ML_Model_Implementation.ipynb",
      "provenance": [],
      "include_colab_link": true
    },
    "kernelspec": {
      "name": "python3",
      "display_name": "Python 3"
    }
  },
  "cells": [
    {
      "cell_type": "markdown",
      "metadata": {
        "id": "view-in-github",
        "colab_type": "text"
      },
      "source": [
        "<a href=\"https://colab.research.google.com/github/SDGPTeamX/PregRed/blob/ml_umeshika/Pregred_ML_Model_Implementation.ipynb\" target=\"_parent\"><img src=\"https://colab.research.google.com/assets/colab-badge.svg\" alt=\"Open In Colab\"/></a>"
      ]
    },
    {
      "cell_type": "code",
      "metadata": {
        "id": "Cm3LRgZEMJZS"
      },
      "source": [
        "#read the csv file which is modified in the previous step\n",
        "df1 = pd.read_csv('/content/TeamX_Modified_Dataset.csv')\n",
        "\n",
        "#get the mean of the numeric columns\n",
        "df1_mean = df1.mean(axis=0)\n",
        "\n",
        "#replace missing numeric values with the mean\n",
        "df2 = df1.fillna(df1_mean, axis=0)\n",
        "\n",
        "#get the mode of the non-numeric columns\n",
        "df2_mode = df2.mode(axis=0, numeric_only=False, dropna=True)\n",
        "\n",
        "#replace missing non-numeric values with the mode\n",
        "df2 = df2.fillna(df2_mode.iloc[0], axis=0)\n",
        "\n",
        "#save the output as a csv file\n",
        "df2.to_csv('/content/Colabs_PregRed_ReplacedMissingValues_Dataset.csv', index=False)"
      ],
      "execution_count": null,
      "outputs": []
    },
    {
      "cell_type": "code",
      "metadata": {
        "id": "bRHDqLxXtn9u"
      },
      "source": [
        "#read the csv file which is modified in the previous step\n",
        "df3 = pd.read_csv('/content/Colabs_PregRed_ReplacedMissingValues_Dataset.csv')\n",
        "\n",
        "#get all the duplicates\n",
        "dups = df3.duplicated()\n",
        "\n",
        "#check whether there is any duplicates\n",
        "print(dups.any())\n",
        "\n",
        "#As there are duplicated rows, delete duplicated rows\n",
        "df3.drop_duplicates(inplace=True)\n",
        "\n",
        "#save the output as a csv file\n",
        "df3.to_csv('/content/Colabs_Pregred_RemovedDuplicatedRows.csv', index=False)"
      ],
      "execution_count": null,
      "outputs": []
    },
    {
      "cell_type": "code",
      "metadata": {
        "id": "pOdvJhWluc9E"
      },
      "source": [
        "#read the dataset using path and saving it as a dataframe\n",
        "df4 = pd.read_csv('/content/Weka_Pregred_RemovedOutliers&ExtremeValues.csv')\n",
        "\n",
        "#get the number of unique values in each column\n",
        "counts = df4.nunique()\n",
        "\n",
        "#get an array of colums to delete\n",
        "to_del = [i for i,v in enumerate(counts) if v == 1]\n",
        "\n",
        "#delete unwanted columns\n",
        "df4.drop(df4.columns[to_del], axis=1, inplace=True)\n",
        "\n",
        "#save the output as a csv file\n",
        "df4.to_csv('/content/Colabs_Cleaned_Dataset.csv', index=False)"
      ],
      "execution_count": null,
      "outputs": []
    },
    {
      "cell_type": "code",
      "metadata": {
        "id": "bvRz7RKH99oz"
      },
      "source": [
        "#read normalized dataset\n",
        "df6 = pd.read_csv('/content/Colabs_PregRed_Normalized_Modified_Dataset.csv')\n",
        "\n",
        "#getting correlations\n",
        "cor = df6.corr()\n",
        "\n",
        "#visualizing the correlations\n",
        "plt.figure(figsize=(16,10))\n",
        "sns.heatmap(cor, annot=True)\n",
        "plt.show()"
      ],
      "execution_count": null,
      "outputs": []
    }
  ]
}